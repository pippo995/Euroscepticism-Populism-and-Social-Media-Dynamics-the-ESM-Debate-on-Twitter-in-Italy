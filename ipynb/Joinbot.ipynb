{
 "cells": [
  {
   "cell_type": "code",
   "execution_count": 6,
   "metadata": {},
   "outputs": [],
   "source": [
    "import pandas as pd \n",
    "import seaborn as sns\n",
    "import matplotlib.pyplot as plt\n",
    "import re\n",
    "\n",
    "pd.set_option('display.width', None)\n",
    "pd.set_option('display.max_colwidth', -1)"
   ]
  },
  {
   "cell_type": "code",
   "execution_count": 2,
   "metadata": {},
   "outputs": [],
   "source": [
    "df = pd.read_csv('mes_totale2.csv', low_memory=False)"
   ]
  },
  {
   "cell_type": "code",
   "execution_count": 7,
   "metadata": {},
   "outputs": [],
   "source": [
    "d1 = pd.read_csv('authors_bot100.csv', low_memory=False)"
   ]
  },
  {
   "cell_type": "code",
   "execution_count": 8,
   "metadata": {},
   "outputs": [],
   "source": [
    "d2 = pd.read_csv('authors_bot100to500.csv', low_memory=False)\n",
    "d1 = pd.concat([d1, d2], ignore_index=True)"
   ]
  },
  {
   "cell_type": "code",
   "execution_count": 9,
   "metadata": {},
   "outputs": [],
   "source": [
    "d2 = pd.read_csv('authors_bot500to1000.csv', low_memory=False)\n",
    "d1 = pd.concat([d1, d2], ignore_index=True)"
   ]
  },
  {
   "cell_type": "code",
   "execution_count": 10,
   "metadata": {},
   "outputs": [],
   "source": [
    "d2 = pd.read_csv('authors_bot1000to1500.csv', low_memory=False)\n",
    "d1 = pd.concat([d1, d2], ignore_index=True)"
   ]
  },
  {
   "cell_type": "code",
   "execution_count": 11,
   "metadata": {},
   "outputs": [],
   "source": [
    "d2 = pd.read_csv('authors_bot1500to1700.csv', low_memory=False)\n",
    "d1 = pd.concat([d1, d2], ignore_index=True)"
   ]
  },
  {
   "cell_type": "code",
   "execution_count": 12,
   "metadata": {},
   "outputs": [],
   "source": [
    "d2 = pd.read_csv('authors_bot1700to2000.csv', low_memory=False)\n",
    "d1 = pd.concat([d1, d2], ignore_index=True)"
   ]
  },
  {
   "cell_type": "code",
   "execution_count": 13,
   "metadata": {},
   "outputs": [],
   "source": [
    "d2 = pd.read_csv('authors_bot2000to2500.csv', low_memory=False)\n",
    "d1 = pd.concat([d1, d2], ignore_index=True)"
   ]
  },
  {
   "cell_type": "code",
   "execution_count": 14,
   "metadata": {},
   "outputs": [],
   "source": [
    "d2 = pd.read_csv('authors_bot2500to3000.csv', low_memory=False)\n",
    "d1 = pd.concat([d1, d2], ignore_index=True)"
   ]
  },
  {
   "cell_type": "code",
   "execution_count": 15,
   "metadata": {},
   "outputs": [],
   "source": [
    "d2 = pd.read_csv('authors_bot3000to4000.csv', low_memory=False)\n",
    "d1 = pd.concat([d1, d2], ignore_index=True)"
   ]
  },
  {
   "cell_type": "code",
   "execution_count": 16,
   "metadata": {},
   "outputs": [],
   "source": [
    "d2 = pd.read_csv('authors_bot4000to5000.csv', low_memory=False)\n",
    "d1 = pd.concat([d1, d2], ignore_index=True)"
   ]
  },
  {
   "cell_type": "code",
   "execution_count": 17,
   "metadata": {},
   "outputs": [],
   "source": [
    "d2 = pd.read_csv('authors_bot5000to6000.csv', low_memory=False)\n",
    "d1 = pd.concat([d1, d2], ignore_index=True)"
   ]
  },
  {
   "cell_type": "code",
   "execution_count": 18,
   "metadata": {},
   "outputs": [],
   "source": [
    "d2 = pd.read_csv('authors_bot6000to7000.csv', low_memory=False)\n",
    "d1 = pd.concat([d1, d2], ignore_index=True)"
   ]
  },
  {
   "cell_type": "code",
   "execution_count": 19,
   "metadata": {},
   "outputs": [],
   "source": [
    "d2 = pd.read_csv('authors_bot7000to8000.csv', low_memory=False)\n",
    "d1 = pd.concat([d1, d2], ignore_index=True)"
   ]
  },
  {
   "cell_type": "code",
   "execution_count": 20,
   "metadata": {},
   "outputs": [],
   "source": [
    "d2 = pd.read_csv('authors_bot8000to9000.csv', low_memory=False)\n",
    "d1 = pd.concat([d1, d2], ignore_index=True)"
   ]
  },
  {
   "cell_type": "code",
   "execution_count": 21,
   "metadata": {},
   "outputs": [],
   "source": [
    "d2 = pd.read_csv('authors_bot9000to10000.csv', low_memory=False)\n",
    "d1 = pd.concat([d1, d2], ignore_index=True)"
   ]
  },
  {
   "cell_type": "code",
   "execution_count": 23,
   "metadata": {},
   "outputs": [],
   "source": [
    "d2 = pd.read_csv('authors_bot10000to110000.csv', low_memory=False)\n",
    "d1 = pd.concat([d1, d2], ignore_index=True)"
   ]
  },
  {
   "cell_type": "code",
   "execution_count": 24,
   "metadata": {},
   "outputs": [],
   "source": [
    "d2 = pd.read_csv('authors_bot11000to120000.csv', low_memory=False)\n",
    "d1 = pd.concat([d1, d2], ignore_index=True)"
   ]
  },
  {
   "cell_type": "code",
   "execution_count": 25,
   "metadata": {},
   "outputs": [],
   "source": [
    "d2 = pd.read_csv('authors_bot12000to130000.csv', low_memory=False)\n",
    "d1 = pd.concat([d1, d2], ignore_index=True)"
   ]
  },
  {
   "cell_type": "code",
   "execution_count": 26,
   "metadata": {},
   "outputs": [],
   "source": [
    "d2 = pd.read_csv('authors_bot13000to14000.csv', low_memory=False)\n",
    "d1 = pd.concat([d1, d2], ignore_index=True)"
   ]
  },
  {
   "cell_type": "code",
   "execution_count": 27,
   "metadata": {},
   "outputs": [],
   "source": [
    "d2 = pd.read_csv('authors_bot14000to15000.csv', low_memory=False)\n",
    "d1 = pd.concat([d1, d2], ignore_index=True)"
   ]
  },
  {
   "cell_type": "code",
   "execution_count": 28,
   "metadata": {},
   "outputs": [],
   "source": [
    "d2 = pd.read_csv('authors_bot15000to16000.csv', low_memory=False)\n",
    "d1 = pd.concat([d1, d2], ignore_index=True)"
   ]
  },
  {
   "cell_type": "code",
   "execution_count": 29,
   "metadata": {},
   "outputs": [],
   "source": [
    "d2 = pd.read_csv('authors_bot16000to17000.csv', low_memory=False)\n",
    "d1 = pd.concat([d1, d2], ignore_index=True)"
   ]
  },
  {
   "cell_type": "code",
   "execution_count": 30,
   "metadata": {},
   "outputs": [],
   "source": [
    "d2 = pd.read_csv('authors_bot17000to18000.csv', low_memory=False)\n",
    "d1 = pd.concat([d1, d2], ignore_index=True)"
   ]
  },
  {
   "cell_type": "code",
   "execution_count": 31,
   "metadata": {},
   "outputs": [],
   "source": [
    "d2 = pd.read_csv('authors_bot18000to19000.csv', low_memory=False)\n",
    "d1 = pd.concat([d1, d2], ignore_index=True)"
   ]
  },
  {
   "cell_type": "code",
   "execution_count": 32,
   "metadata": {},
   "outputs": [],
   "source": [
    "d2 = pd.read_csv('authors_bot19000to20000.csv', low_memory=False)\n",
    "d1 = pd.concat([d1, d2], ignore_index=True)"
   ]
  },
  {
   "cell_type": "code",
   "execution_count": 33,
   "metadata": {},
   "outputs": [],
   "source": [
    "d2 = pd.read_csv('authors_bot20000to21000.csv', low_memory=False)\n",
    "d1 = pd.concat([d1, d2], ignore_index=True)"
   ]
  },
  {
   "cell_type": "code",
   "execution_count": 34,
   "metadata": {},
   "outputs": [],
   "source": [
    "d2 = pd.read_csv('authors_bot21000to22000.csv', low_memory=False)\n",
    "d1 = pd.concat([d1, d2], ignore_index=True)"
   ]
  },
  {
   "cell_type": "code",
   "execution_count": 35,
   "metadata": {},
   "outputs": [],
   "source": [
    "d2 = pd.read_csv('authors_bot22000to23000.csv', low_memory=False)\n",
    "d1 = pd.concat([d1, d2], ignore_index=True)"
   ]
  },
  {
   "cell_type": "code",
   "execution_count": 36,
   "metadata": {},
   "outputs": [],
   "source": [
    "d2 = pd.read_csv('authors_bot23000to24000.csv', low_memory=False)\n",
    "d1 = pd.concat([d1, d2], ignore_index=True)"
   ]
  },
  {
   "cell_type": "code",
   "execution_count": 37,
   "metadata": {},
   "outputs": [],
   "source": [
    "d2 = pd.read_csv('authors_bot24000to25000.csv', low_memory=False)\n",
    "d1 = pd.concat([d1, d2], ignore_index=True)"
   ]
  },
  {
   "cell_type": "code",
   "execution_count": 38,
   "metadata": {},
   "outputs": [],
   "source": [
    "d2 = pd.read_csv('authors_bot25000to26000.csv', low_memory=False)\n",
    "d1 = pd.concat([d1, d2], ignore_index=True)"
   ]
  },
  {
   "cell_type": "code",
   "execution_count": 39,
   "metadata": {},
   "outputs": [],
   "source": [
    "d2 = pd.read_csv('authors_bot26000to27000.csv', low_memory=False)\n",
    "d1 = pd.concat([d1, d2], ignore_index=True)"
   ]
  },
  {
   "cell_type": "code",
   "execution_count": 40,
   "metadata": {},
   "outputs": [],
   "source": [
    "d2 = pd.read_csv('authors_bot27000to28000.csv', low_memory=False)\n",
    "d1 = pd.concat([d1, d2], ignore_index=True)"
   ]
  },
  {
   "cell_type": "code",
   "execution_count": 41,
   "metadata": {},
   "outputs": [],
   "source": [
    "d2 = pd.read_csv('authors_bot28000to29000.csv', low_memory=False)\n",
    "d1 = pd.concat([d1, d2], ignore_index=True)"
   ]
  },
  {
   "cell_type": "code",
   "execution_count": 42,
   "metadata": {},
   "outputs": [],
   "source": [
    "d2 = pd.read_csv('authors_bot29000to29523.csv', low_memory=False)\n",
    "d1 = pd.concat([d1, d2], ignore_index=True)"
   ]
  },
  {
   "cell_type": "code",
   "execution_count": 43,
   "metadata": {},
   "outputs": [
    {
     "data": {
      "text/html": [
       "<div>\n",
       "<style scoped>\n",
       "    .dataframe tbody tr th:only-of-type {\n",
       "        vertical-align: middle;\n",
       "    }\n",
       "\n",
       "    .dataframe tbody tr th {\n",
       "        vertical-align: top;\n",
       "    }\n",
       "\n",
       "    .dataframe thead th {\n",
       "        text-align: right;\n",
       "    }\n",
       "</style>\n",
       "<table border=\"1\" class=\"dataframe\">\n",
       "  <thead>\n",
       "    <tr style=\"text-align: right;\">\n",
       "      <th></th>\n",
       "      <th>0</th>\n",
       "      <th>cap</th>\n",
       "      <th>universal</th>\n",
       "      <th>friend</th>\n",
       "      <th>temporal</th>\n",
       "      <th>user</th>\n",
       "      <th>network</th>\n",
       "    </tr>\n",
       "  </thead>\n",
       "  <tbody>\n",
       "    <tr>\n",
       "      <td>0</td>\n",
       "      <td>78_robyus</td>\n",
       "      <td>0.010165</td>\n",
       "      <td>0.170132</td>\n",
       "      <td>0.311763</td>\n",
       "      <td>0.460315</td>\n",
       "      <td>0.067460</td>\n",
       "      <td>0.129106</td>\n",
       "    </tr>\n",
       "    <tr>\n",
       "      <td>1</td>\n",
       "      <td>antoniacri</td>\n",
       "      <td>0.005213</td>\n",
       "      <td>0.111167</td>\n",
       "      <td>0.178233</td>\n",
       "      <td>0.301336</td>\n",
       "      <td>0.212079</td>\n",
       "      <td>0.568829</td>\n",
       "    </tr>\n",
       "    <tr>\n",
       "      <td>2</td>\n",
       "      <td>whiteowl48</td>\n",
       "      <td>0.002431</td>\n",
       "      <td>0.052029</td>\n",
       "      <td>0.209572</td>\n",
       "      <td>0.288449</td>\n",
       "      <td>0.037518</td>\n",
       "      <td>0.281437</td>\n",
       "    </tr>\n",
       "    <tr>\n",
       "      <td>3</td>\n",
       "      <td>silvana_chiodi</td>\n",
       "      <td>0.005778</td>\n",
       "      <td>0.119570</td>\n",
       "      <td>0.198697</td>\n",
       "      <td>0.170117</td>\n",
       "      <td>0.461804</td>\n",
       "      <td>0.213884</td>\n",
       "    </tr>\n",
       "    <tr>\n",
       "      <td>4</td>\n",
       "      <td>Vulcanelios</td>\n",
       "      <td>0.004725</td>\n",
       "      <td>0.103286</td>\n",
       "      <td>0.119515</td>\n",
       "      <td>0.288449</td>\n",
       "      <td>0.040411</td>\n",
       "      <td>0.122431</td>\n",
       "    </tr>\n",
       "    <tr>\n",
       "      <td>...</td>\n",
       "      <td>...</td>\n",
       "      <td>...</td>\n",
       "      <td>...</td>\n",
       "      <td>...</td>\n",
       "      <td>...</td>\n",
       "      <td>...</td>\n",
       "      <td>...</td>\n",
       "    </tr>\n",
       "    <tr>\n",
       "      <td>29517</td>\n",
       "      <td>CorrocherMatteo</td>\n",
       "      <td>-1.000000</td>\n",
       "      <td>NaN</td>\n",
       "      <td>NaN</td>\n",
       "      <td>NaN</td>\n",
       "      <td>NaN</td>\n",
       "      <td>NaN</td>\n",
       "    </tr>\n",
       "    <tr>\n",
       "      <td>29518</td>\n",
       "      <td>GiancarloPoli7</td>\n",
       "      <td>0.002198</td>\n",
       "      <td>0.044479</td>\n",
       "      <td>0.094077</td>\n",
       "      <td>0.105017</td>\n",
       "      <td>0.032318</td>\n",
       "      <td>0.063076</td>\n",
       "    </tr>\n",
       "    <tr>\n",
       "      <td>29519</td>\n",
       "      <td>dnl_brg</td>\n",
       "      <td>-1.000000</td>\n",
       "      <td>NaN</td>\n",
       "      <td>NaN</td>\n",
       "      <td>NaN</td>\n",
       "      <td>NaN</td>\n",
       "      <td>NaN</td>\n",
       "    </tr>\n",
       "    <tr>\n",
       "      <td>29520</td>\n",
       "      <td>s_capaccioli</td>\n",
       "      <td>0.002910</td>\n",
       "      <td>0.065656</td>\n",
       "      <td>0.150687</td>\n",
       "      <td>0.208029</td>\n",
       "      <td>0.050425</td>\n",
       "      <td>0.109970</td>\n",
       "    </tr>\n",
       "    <tr>\n",
       "      <td>29521</td>\n",
       "      <td>FioreLiborio</td>\n",
       "      <td>0.002198</td>\n",
       "      <td>0.044479</td>\n",
       "      <td>0.188251</td>\n",
       "      <td>0.275895</td>\n",
       "      <td>0.050425</td>\n",
       "      <td>0.246102</td>\n",
       "    </tr>\n",
       "  </tbody>\n",
       "</table>\n",
       "<p>29522 rows × 7 columns</p>\n",
       "</div>"
      ],
      "text/plain": [
       "                     0       cap  universal    friend  temporal      user  \\\n",
       "0      78_robyus        0.010165  0.170132   0.311763  0.460315  0.067460   \n",
       "1      antoniacri       0.005213  0.111167   0.178233  0.301336  0.212079   \n",
       "2      whiteowl48       0.002431  0.052029   0.209572  0.288449  0.037518   \n",
       "3      silvana_chiodi   0.005778  0.119570   0.198697  0.170117  0.461804   \n",
       "4      Vulcanelios      0.004725  0.103286   0.119515  0.288449  0.040411   \n",
       "...            ...           ...       ...        ...       ...       ...   \n",
       "29517  CorrocherMatteo -1.000000 NaN        NaN       NaN       NaN         \n",
       "29518  GiancarloPoli7   0.002198  0.044479   0.094077  0.105017  0.032318   \n",
       "29519  dnl_brg         -1.000000 NaN        NaN       NaN       NaN         \n",
       "29520  s_capaccioli     0.002910  0.065656   0.150687  0.208029  0.050425   \n",
       "29521  FioreLiborio     0.002198  0.044479   0.188251  0.275895  0.050425   \n",
       "\n",
       "        network  \n",
       "0      0.129106  \n",
       "1      0.568829  \n",
       "2      0.281437  \n",
       "3      0.213884  \n",
       "4      0.122431  \n",
       "...         ...  \n",
       "29517 NaN        \n",
       "29518  0.063076  \n",
       "29519 NaN        \n",
       "29520  0.109970  \n",
       "29521  0.246102  \n",
       "\n",
       "[29522 rows x 7 columns]"
      ]
     },
     "execution_count": 43,
     "metadata": {},
     "output_type": "execute_result"
    }
   ],
   "source": [
    "d1"
   ]
  },
  {
   "cell_type": "code",
   "execution_count": 44,
   "metadata": {},
   "outputs": [],
   "source": [
    "d1.to_csv('BOT.csv', index = None)"
   ]
  }
 ],
 "metadata": {
  "kernelspec": {
   "display_name": "Python 3 (ipykernel)",
   "language": "python",
   "name": "python3"
  },
  "language_info": {
   "codemirror_mode": {
    "name": "ipython",
    "version": 3
   },
   "file_extension": ".py",
   "mimetype": "text/x-python",
   "name": "python",
   "nbconvert_exporter": "python",
   "pygments_lexer": "ipython3",
   "version": "3.9.7"
  }
 },
 "nbformat": 4,
 "nbformat_minor": 2
}
