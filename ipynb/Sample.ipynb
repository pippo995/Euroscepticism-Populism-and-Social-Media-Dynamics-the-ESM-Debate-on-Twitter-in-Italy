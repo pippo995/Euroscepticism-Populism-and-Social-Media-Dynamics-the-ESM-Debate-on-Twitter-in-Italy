{
 "cells": [
  {
   "cell_type": "code",
   "execution_count": 66,
   "metadata": {},
   "outputs": [],
   "source": [
    "import pandas as pd \n",
    "import seaborn as sns\n",
    "import matplotlib.pyplot as plt\n",
    "import re\n",
    "\n",
    "pd.set_option('display.width', None)\n",
    "pd.set_option('display.max_colwidth', -1)"
   ]
  },
  {
   "cell_type": "code",
   "execution_count": 67,
   "metadata": {},
   "outputs": [],
   "source": [
    "df = pd.read_csv('mes_totale2.csv', low_memory=False)"
   ]
  },
  {
   "cell_type": "code",
   "execution_count": 68,
   "metadata": {},
   "outputs": [
    {
     "data": {
      "text/html": [
       "<div>\n",
       "<style scoped>\n",
       "    .dataframe tbody tr th:only-of-type {\n",
       "        vertical-align: middle;\n",
       "    }\n",
       "\n",
       "    .dataframe tbody tr th {\n",
       "        vertical-align: top;\n",
       "    }\n",
       "\n",
       "    .dataframe thead th {\n",
       "        text-align: right;\n",
       "    }\n",
       "</style>\n",
       "<table border=\"1\" class=\"dataframe\">\n",
       "  <thead>\n",
       "    <tr style=\"text-align: right;\">\n",
       "      <th></th>\n",
       "      <th>author</th>\n",
       "      <th>aut_scrname</th>\n",
       "      <th>tweet_id</th>\n",
       "      <th>retweeted_status</th>\n",
       "      <th>full_text</th>\n",
       "      <th>reply</th>\n",
       "      <th>created_at</th>\n",
       "      <th>retweet_count</th>\n",
       "      <th>favorite_count</th>\n",
       "      <th>hashtags</th>\n",
       "      <th>...</th>\n",
       "      <th>aut_followerscount</th>\n",
       "      <th>aut_verified</th>\n",
       "      <th>aut_created</th>\n",
       "      <th>date_only</th>\n",
       "      <th>sources_clean</th>\n",
       "      <th>is_retweet</th>\n",
       "      <th>retweeted_author</th>\n",
       "      <th>complete_text</th>\n",
       "      <th>prev</th>\n",
       "      <th>p</th>\n",
       "    </tr>\n",
       "  </thead>\n",
       "  <tbody>\n",
       "  </tbody>\n",
       "</table>\n",
       "<p>0 rows × 29 columns</p>\n",
       "</div>"
      ],
      "text/plain": [
       "Empty DataFrame\n",
       "Columns: [author, aut_scrname, tweet_id, retweeted_status, full_text, reply, created_at, retweet_count, favorite_count, hashtags, citations, key, coordinates, source, place, geo, aut_location, aut_statuses, aut_friendcount, aut_followerscount, aut_verified, aut_created, date_only, sources_clean, is_retweet, retweeted_author, complete_text, prev, p]\n",
       "Index: []\n",
       "\n",
       "[0 rows x 29 columns]"
      ]
     },
     "execution_count": 68,
     "metadata": {},
     "output_type": "execute_result"
    }
   ],
   "source": [
    "df.loc[df['prev'] == 0]"
   ]
  },
  {
   "cell_type": "code",
   "execution_count": 69,
   "metadata": {},
   "outputs": [],
   "source": [
    "ds = pd.read_csv('mes_sample.csv', low_memory=False)"
   ]
  },
  {
   "cell_type": "code",
   "execution_count": 70,
   "metadata": {},
   "outputs": [
    {
     "data": {
      "text/plain": [
       "1    176532\n",
       "2    42818 \n",
       "3    22150 \n",
       "Name: prev, dtype: int64"
      ]
     },
     "execution_count": 70,
     "metadata": {},
     "output_type": "execute_result"
    }
   ],
   "source": [
    "df['prev'].value_counts()"
   ]
  },
  {
   "cell_type": "code",
   "execution_count": 71,
   "metadata": {},
   "outputs": [
    {
     "data": {
      "text/plain": [
       "1    1764\n",
       "2    645 \n",
       "3    454 \n",
       "Name: cat, dtype: int64"
      ]
     },
     "execution_count": 71,
     "metadata": {},
     "output_type": "execute_result"
    }
   ],
   "source": [
    "ds['cat'].value_counts()"
   ]
  },
  {
   "cell_type": "code",
   "execution_count": 151,
   "metadata": {},
   "outputs": [
    {
     "data": {
      "image/png": "[encoded data removed]",
      "text/plain": [
       "<Figure size 432x288 with 1 Axes>"
      ]
     },
     "metadata": {},
     "output_type": "display_data"
    }
   ],
   "source": [
    "explode2 = (0.05, 0.0, 0.05)\n",
    "labels = ('Contro', 'Pro','Neutro')\n",
    "ax = df['prev'].value_counts().plot(kind='pie', autopct='%1.2f%%', colors=('tab:red', 'tab:green', 'dodgerblue'), labels=labels, textprops={'color':'black', 'weight':'bold', 'fontsize':12.5}, explode = explode2)\n",
    "\n"
   ]
  },
  {
   "cell_type": "code",
   "execution_count": 141,
   "metadata": {},
   "outputs": [
    {
     "data": {
      "image/png": "[encoded data removed]",
      "text/plain": [
       "<Figure size 432x288 with 1 Axes>"
      ]
     },
     "metadata": {},
     "output_type": "display_data"
    }
   ],
   "source": [
    "explode2 = (0, 0.05, 0.05)\n",
    "labels = ('Contro', 'Pro','Neutro')\n",
    "ax = ds['cat'].value_counts().plot(kind='pie', autopct='%1.2f%%', colors=('tab:red', 'tab:green', 'dodgerblue'), labels=labels,  textprops={'color':'black', 'weight':'bold', 'fontsize':12.5}, explode = explode2)"
   ]
  }
 ],
 "metadata": {
  "kernelspec": {
   "display_name": "Python 3 (ipykernel)",
   "language": "python",
   "name": "python3"
  },
  "language_info": {
   "codemirror_mode": {
    "name": "ipython",
    "version": 3
   },
   "file_extension": ".py",
   "mimetype": "text/x-python",
   "name": "python",
   "nbconvert_exporter": "python",
   "pygments_lexer": "ipython3",
   "version": "3.9.7"
  }
 },
 "nbformat": 4,
 "nbformat_minor": 2
}
