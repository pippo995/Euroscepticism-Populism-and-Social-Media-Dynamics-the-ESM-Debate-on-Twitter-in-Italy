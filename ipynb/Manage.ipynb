{
 "cells": [
  {
   "cell_type": "code",
   "execution_count": 22,
   "metadata": {},
   "outputs": [],
   "source": [
    "import pandas as pd \n",
    "import seaborn as sns\n",
    "import matplotlib.pyplot as plt\n",
    "import re\n",
    "import numpy as np\n",
    "\n",
    "pd.set_option('display.width', None)\n",
    "pd.set_option('display.max_colwidth', -1)"
   ]
  },
  {
   "cell_type": "code",
   "execution_count": 23,
   "metadata": {},
   "outputs": [
    {
     "data": {
      "text/html": [
       "<div>\n",
       "<style scoped>\n",
       "    .dataframe tbody tr th:only-of-type {\n",
       "        vertical-align: middle;\n",
       "    }\n",
       "\n",
       "    .dataframe tbody tr th {\n",
       "        vertical-align: top;\n",
       "    }\n",
       "\n",
       "    .dataframe thead th {\n",
       "        text-align: right;\n",
       "    }\n",
       "</style>\n",
       "<table border=\"1\" class=\"dataframe\">\n",
       "  <thead>\n",
       "    <tr style=\"text-align: right;\">\n",
       "      <th></th>\n",
       "      <th>Data</th>\n",
       "      <th>Popolazione</th>\n",
       "      <th>Campione</th>\n",
       "    </tr>\n",
       "  </thead>\n",
       "  <tbody>\n",
       "    <tr>\n",
       "      <td>0</td>\n",
       "      <td>25/11/2019</td>\n",
       "      <td>1681</td>\n",
       "      <td>129</td>\n",
       "    </tr>\n",
       "    <tr>\n",
       "      <td>1</td>\n",
       "      <td>26/11/2019</td>\n",
       "      <td>5783</td>\n",
       "      <td>136</td>\n",
       "    </tr>\n",
       "    <tr>\n",
       "      <td>2</td>\n",
       "      <td>27/11/2019</td>\n",
       "      <td>22007</td>\n",
       "      <td>139</td>\n",
       "    </tr>\n",
       "    <tr>\n",
       "      <td>3</td>\n",
       "      <td>28/11/2019</td>\n",
       "      <td>21447</td>\n",
       "      <td>139</td>\n",
       "    </tr>\n",
       "    <tr>\n",
       "      <td>4</td>\n",
       "      <td>29/11/2019</td>\n",
       "      <td>13073</td>\n",
       "      <td>138</td>\n",
       "    </tr>\n",
       "    <tr>\n",
       "      <td>5</td>\n",
       "      <td>30/11/2019</td>\n",
       "      <td>9341</td>\n",
       "      <td>137</td>\n",
       "    </tr>\n",
       "    <tr>\n",
       "      <td>6</td>\n",
       "      <td>01/12/2019</td>\n",
       "      <td>14251</td>\n",
       "      <td>138</td>\n",
       "    </tr>\n",
       "    <tr>\n",
       "      <td>7</td>\n",
       "      <td>02/12/2019</td>\n",
       "      <td>30190</td>\n",
       "      <td>139</td>\n",
       "    </tr>\n",
       "    <tr>\n",
       "      <td>8</td>\n",
       "      <td>03/12/2019</td>\n",
       "      <td>21642</td>\n",
       "      <td>139</td>\n",
       "    </tr>\n",
       "    <tr>\n",
       "      <td>9</td>\n",
       "      <td>04/12/2019</td>\n",
       "      <td>16530</td>\n",
       "      <td>138</td>\n",
       "    </tr>\n",
       "    <tr>\n",
       "      <td>10</td>\n",
       "      <td>05/12/2019</td>\n",
       "      <td>12307</td>\n",
       "      <td>138</td>\n",
       "    </tr>\n",
       "    <tr>\n",
       "      <td>11</td>\n",
       "      <td>06/12/2019</td>\n",
       "      <td>5485</td>\n",
       "      <td>136</td>\n",
       "    </tr>\n",
       "    <tr>\n",
       "      <td>12</td>\n",
       "      <td>07/12/2019</td>\n",
       "      <td>3539</td>\n",
       "      <td>134</td>\n",
       "    </tr>\n",
       "    <tr>\n",
       "      <td>13</td>\n",
       "      <td>08/12/2019</td>\n",
       "      <td>6558</td>\n",
       "      <td>137</td>\n",
       "    </tr>\n",
       "    <tr>\n",
       "      <td>14</td>\n",
       "      <td>09/12/2019</td>\n",
       "      <td>10232</td>\n",
       "      <td>138</td>\n",
       "    </tr>\n",
       "    <tr>\n",
       "      <td>15</td>\n",
       "      <td>10/12/2019</td>\n",
       "      <td>5554</td>\n",
       "      <td>136</td>\n",
       "    </tr>\n",
       "    <tr>\n",
       "      <td>16</td>\n",
       "      <td>11/12/2019</td>\n",
       "      <td>19862</td>\n",
       "      <td>138</td>\n",
       "    </tr>\n",
       "    <tr>\n",
       "      <td>17</td>\n",
       "      <td>12/12/2019</td>\n",
       "      <td>12720</td>\n",
       "      <td>138</td>\n",
       "    </tr>\n",
       "    <tr>\n",
       "      <td>18</td>\n",
       "      <td>13/12/2019</td>\n",
       "      <td>4899</td>\n",
       "      <td>136</td>\n",
       "    </tr>\n",
       "    <tr>\n",
       "      <td>19</td>\n",
       "      <td>14/12/2019</td>\n",
       "      <td>2936</td>\n",
       "      <td>133</td>\n",
       "    </tr>\n",
       "    <tr>\n",
       "      <td>20</td>\n",
       "      <td>15/12/2019</td>\n",
       "      <td>1463</td>\n",
       "      <td>127</td>\n",
       "    </tr>\n",
       "  </tbody>\n",
       "</table>\n",
       "</div>"
      ],
      "text/plain": [
       "          Data  Popolazione  Campione\n",
       "0   25/11/2019  1681         129     \n",
       "1   26/11/2019  5783         136     \n",
       "2   27/11/2019  22007        139     \n",
       "3   28/11/2019  21447        139     \n",
       "4   29/11/2019  13073        138     \n",
       "5   30/11/2019  9341         137     \n",
       "6   01/12/2019  14251        138     \n",
       "7   02/12/2019  30190        139     \n",
       "8   03/12/2019  21642        139     \n",
       "9   04/12/2019  16530        138     \n",
       "10  05/12/2019  12307        138     \n",
       "11  06/12/2019  5485         136     \n",
       "12  07/12/2019  3539         134     \n",
       "13  08/12/2019  6558         137     \n",
       "14  09/12/2019  10232        138     \n",
       "15  10/12/2019  5554         136     \n",
       "16  11/12/2019  19862        138     \n",
       "17  12/12/2019  12720        138     \n",
       "18  13/12/2019  4899         136     \n",
       "19  14/12/2019  2936         133     \n",
       "20  15/12/2019  1463         127     "
      ]
     },
     "execution_count": 23,
     "metadata": {},
     "output_type": "execute_result"
    }
   ],
   "source": [
    "df = pd.read_csv('Cartel1.csv', low_memory=False)\n",
    "df"
   ]
  },
  {
   "cell_type": "code",
   "execution_count": 24,
   "metadata": {},
   "outputs": [],
   "source": [
    "table = pd.pivot_table(df, index=[\"Data\"])"
   ]
  },
  {
   "cell_type": "code",
   "execution_count": 25,
   "metadata": {},
   "outputs": [
    {
     "data": {
      "text/html": [
       "<div>\n",
       "<style scoped>\n",
       "    .dataframe tbody tr th:only-of-type {\n",
       "        vertical-align: middle;\n",
       "    }\n",
       "\n",
       "    .dataframe tbody tr th {\n",
       "        vertical-align: top;\n",
       "    }\n",
       "\n",
       "    .dataframe thead th {\n",
       "        text-align: right;\n",
       "    }\n",
       "</style>\n",
       "<table border=\"1\" class=\"dataframe\">\n",
       "  <thead>\n",
       "    <tr style=\"text-align: right;\">\n",
       "      <th></th>\n",
       "      <th>Campione</th>\n",
       "      <th>Popolazione</th>\n",
       "    </tr>\n",
       "    <tr>\n",
       "      <th>Data</th>\n",
       "      <th></th>\n",
       "      <th></th>\n",
       "    </tr>\n",
       "  </thead>\n",
       "  <tbody>\n",
       "    <tr>\n",
       "      <td>01/12/2019</td>\n",
       "      <td>138</td>\n",
       "      <td>14251</td>\n",
       "    </tr>\n",
       "    <tr>\n",
       "      <td>02/12/2019</td>\n",
       "      <td>139</td>\n",
       "      <td>30190</td>\n",
       "    </tr>\n",
       "    <tr>\n",
       "      <td>03/12/2019</td>\n",
       "      <td>139</td>\n",
       "      <td>21642</td>\n",
       "    </tr>\n",
       "    <tr>\n",
       "      <td>04/12/2019</td>\n",
       "      <td>138</td>\n",
       "      <td>16530</td>\n",
       "    </tr>\n",
       "    <tr>\n",
       "      <td>05/12/2019</td>\n",
       "      <td>138</td>\n",
       "      <td>12307</td>\n",
       "    </tr>\n",
       "    <tr>\n",
       "      <td>06/12/2019</td>\n",
       "      <td>136</td>\n",
       "      <td>5485</td>\n",
       "    </tr>\n",
       "    <tr>\n",
       "      <td>07/12/2019</td>\n",
       "      <td>134</td>\n",
       "      <td>3539</td>\n",
       "    </tr>\n",
       "    <tr>\n",
       "      <td>08/12/2019</td>\n",
       "      <td>137</td>\n",
       "      <td>6558</td>\n",
       "    </tr>\n",
       "    <tr>\n",
       "      <td>09/12/2019</td>\n",
       "      <td>138</td>\n",
       "      <td>10232</td>\n",
       "    </tr>\n",
       "    <tr>\n",
       "      <td>10/12/2019</td>\n",
       "      <td>136</td>\n",
       "      <td>5554</td>\n",
       "    </tr>\n",
       "    <tr>\n",
       "      <td>11/12/2019</td>\n",
       "      <td>138</td>\n",
       "      <td>19862</td>\n",
       "    </tr>\n",
       "    <tr>\n",
       "      <td>12/12/2019</td>\n",
       "      <td>138</td>\n",
       "      <td>12720</td>\n",
       "    </tr>\n",
       "    <tr>\n",
       "      <td>13/12/2019</td>\n",
       "      <td>136</td>\n",
       "      <td>4899</td>\n",
       "    </tr>\n",
       "    <tr>\n",
       "      <td>14/12/2019</td>\n",
       "      <td>133</td>\n",
       "      <td>2936</td>\n",
       "    </tr>\n",
       "    <tr>\n",
       "      <td>15/12/2019</td>\n",
       "      <td>127</td>\n",
       "      <td>1463</td>\n",
       "    </tr>\n",
       "    <tr>\n",
       "      <td>25/11/2019</td>\n",
       "      <td>129</td>\n",
       "      <td>1681</td>\n",
       "    </tr>\n",
       "    <tr>\n",
       "      <td>26/11/2019</td>\n",
       "      <td>136</td>\n",
       "      <td>5783</td>\n",
       "    </tr>\n",
       "    <tr>\n",
       "      <td>27/11/2019</td>\n",
       "      <td>139</td>\n",
       "      <td>22007</td>\n",
       "    </tr>\n",
       "    <tr>\n",
       "      <td>28/11/2019</td>\n",
       "      <td>139</td>\n",
       "      <td>21447</td>\n",
       "    </tr>\n",
       "    <tr>\n",
       "      <td>29/11/2019</td>\n",
       "      <td>138</td>\n",
       "      <td>13073</td>\n",
       "    </tr>\n",
       "    <tr>\n",
       "      <td>30/11/2019</td>\n",
       "      <td>137</td>\n",
       "      <td>9341</td>\n",
       "    </tr>\n",
       "  </tbody>\n",
       "</table>\n",
       "</div>"
      ],
      "text/plain": [
       "            Campione  Popolazione\n",
       "Data                             \n",
       "01/12/2019  138       14251      \n",
       "02/12/2019  139       30190      \n",
       "03/12/2019  139       21642      \n",
       "04/12/2019  138       16530      \n",
       "05/12/2019  138       12307      \n",
       "06/12/2019  136       5485       \n",
       "07/12/2019  134       3539       \n",
       "08/12/2019  137       6558       \n",
       "09/12/2019  138       10232      \n",
       "10/12/2019  136       5554       \n",
       "11/12/2019  138       19862      \n",
       "12/12/2019  138       12720      \n",
       "13/12/2019  136       4899       \n",
       "14/12/2019  133       2936       \n",
       "15/12/2019  127       1463       \n",
       "25/11/2019  129       1681       \n",
       "26/11/2019  136       5783       \n",
       "27/11/2019  139       22007      \n",
       "28/11/2019  139       21447      \n",
       "29/11/2019  138       13073      \n",
       "30/11/2019  137       9341       "
      ]
     },
     "execution_count": 25,
     "metadata": {},
     "output_type": "execute_result"
    }
   ],
   "source": [
    "table"
   ]
  },
  {
   "cell_type": "code",
   "execution_count": 8,
   "metadata": {},
   "outputs": [],
   "source": [
    "df.to_csv('mes_2019-11-26.csv', index = None)"
   ]
  },
  {
   "cell_type": "code",
   "execution_count": 29,
   "metadata": {},
   "outputs": [
    {
     "data": {
      "text/plain": [
       "(129, 28)"
      ]
     },
     "execution_count": 29,
     "metadata": {},
     "output_type": "execute_result"
    }
   ],
   "source": [
    "#d1 = df.loc[df['date_only'] ==  '2019-11-25']\n",
    "#d1.to_csv('mes_2019-11-25.csv', index = None, header = True)\n",
    "#ds1 = d1.sample(n=129)\n",
    "#ds1.to_csv('mes_2019-11-25_sample.csv', index = None, header = True)\n",
    "d1 = pd.read_csv('mes_2019-11-25_sample.csv', low_memory=False)\n",
    "d1.shape\n",
    "#d1['complete_text'] = d1['complete_text'].replace(r\"[^a-zA-Z\\d\\_]+\", ' ', regex=True)\n",
    "#d1['complete_text'] = d1['complete_text'].replace(r\"_\", ' ', regex=True)\n",
    "#d1.to_csv('mes_2019-11-25.csv', index = None)"
   ]
  },
  {
   "cell_type": "code",
   "execution_count": 30,
   "metadata": {},
   "outputs": [
    {
     "data": {
      "text/plain": [
       "(136, 28)"
      ]
     },
     "execution_count": 30,
     "metadata": {},
     "output_type": "execute_result"
    }
   ],
   "source": [
    "#d1 = df.loc[df['date_only'] ==  '2019-11-26']\n",
    "#d1.to_csv('mes_2019-11-26.csv', index = None, header = True)\n",
    "#ds1 = d1.sample(n=136)\n",
    "#ds1.to_csv('mes_2019-11-26_sample.csv', index = None, header = True)\n",
    "d2 = pd.read_csv('mes_2019-11-26_sample.csv', low_memory=False)\n",
    "#d2['complete_text'] = d1['complete_text'].replace(r\"[^a-zA-Z\\d\\_]+\", ' ', regex=True)\n",
    "#d2['complete_text'] = d1['complete_text'].replace(r\"_\", ' ', regex=True)\n",
    "#d2.to_csv('mes_2019-11-26.csv', index = None)\n",
    "d1 = pd.concat([d1, d2], ignore_index=True)\n",
    "d2.shape"
   ]
  },
  {
   "cell_type": "code",
   "execution_count": 31,
   "metadata": {},
   "outputs": [
    {
     "data": {
      "text/plain": [
       "(139, 28)"
      ]
     },
     "execution_count": 31,
     "metadata": {},
     "output_type": "execute_result"
    }
   ],
   "source": [
    "#d1 = df.loc[df['date_only'] ==  '2019-11-27']\n",
    "#d1.to_csv('mes_2019-11-27.csv', index = None, header = True)\n",
    "#ds1 = d1.sample(n=139)\n",
    "#ds1.to_csv('mes_2019-11-27_sample.csv', index = None, header = True)\n",
    "d2 = pd.read_csv('mes_2019-11-27_sample.csv', low_memory=False)\n",
    "#d2['complete_text'] = d1['complete_text'].replace(r\"[^a-zA-Z\\d\\_]+\", ' ', regex=True)\n",
    "#d2['complete_text'] = d1['complete_text'].replace(r\"_\", ' ', regex=True)\n",
    "#d2.to_csv('mes_2019-11-27.csv', index = None)\n",
    "d1 = pd.concat([d1, d2], ignore_index=True)\n",
    "d2.shape"
   ]
  },
  {
   "cell_type": "code",
   "execution_count": 32,
   "metadata": {},
   "outputs": [
    {
     "data": {
      "text/plain": [
       "(139, 28)"
      ]
     },
     "execution_count": 32,
     "metadata": {},
     "output_type": "execute_result"
    }
   ],
   "source": [
    "#d1 = df.loc[df['date_only'] ==  '2019-11-28']\n",
    "#d1.to_csv('mes_2019-11-28.csv', index = None, header = True)\n",
    "#ds1 = d1.sample(n=139)\n",
    "#ds1.to_csv('mes_2019-11-28_sample.csv', index = None, header = True)\n",
    "d2 = pd.read_csv('mes_2019-11-28_sample.csv', low_memory=False)\n",
    "#d2['complete_text'] = d1['complete_text'].replace(r\"[^a-zA-Z\\d\\_]+\", ' ', regex=True)\n",
    "#d2['complete_text'] = d1['complete_text'].replace(r\"_\", ' ', regex=True)\n",
    "#d2.to_csv('mes_2019-11-28.csv', index = None)\n",
    "d1 = pd.concat([d1, d2], ignore_index=True)\n",
    "d2.shape"
   ]
  },
  {
   "cell_type": "code",
   "execution_count": 33,
   "metadata": {},
   "outputs": [
    {
     "data": {
      "text/plain": [
       "(138, 28)"
      ]
     },
     "execution_count": 33,
     "metadata": {},
     "output_type": "execute_result"
    }
   ],
   "source": [
    "#d1 = df.loc[df['date_only'] ==  '2019-11-29']\n",
    "#d1.to_csv('mes_2019-11-29.csv', index = None, header = True)\n",
    "#ds1 = d1.sample(n=138)\n",
    "#ds1.to_csv('mes_2019-11-29_sample.csv', index = None, header = True)\n",
    "d2 = pd.read_csv('mes_2019-11-29_sample.csv', low_memory=False)\n",
    "#d2['complete_text'] = d1['complete_text'].replace(r\"[^a-zA-Z\\d\\_]+\", ' ', regex=True)\n",
    "#d2['complete_text'] = d1['complete_text'].replace(r\"_\", ' ', regex=True)\n",
    "#d2.to_csv('mes_2019-11-29.csv', index = None)\n",
    "d1 = pd.concat([d1, d2], ignore_index=True)\n",
    "d2.shape"
   ]
  },
  {
   "cell_type": "code",
   "execution_count": 34,
   "metadata": {},
   "outputs": [
    {
     "data": {
      "text/plain": [
       "(137, 28)"
      ]
     },
     "execution_count": 34,
     "metadata": {},
     "output_type": "execute_result"
    }
   ],
   "source": [
    "#d1 = df.loc[df['date_only'] ==  '2019-11-30']\n",
    "#d1.to_csv('mes_2019-11-30.csv', index = None, header = True)\n",
    "#ds1 = d1.sample(n=137)\n",
    "#ds1.to_csv('mes_2019-11-30_sample.csv', index = None, header = True)\n",
    "d2 = pd.read_csv('mes_2019-11-30_sample.csv', low_memory=False)\n",
    "#d2['complete_text'] = d1['complete_text'].replace(r\"[^a-zA-Z\\d\\_]+\", ' ', regex=True)\n",
    "#d2['complete_text'] = d1['complete_text'].replace(r\"_\", ' ', regex=True)\n",
    "#d2.to_csv('mes_2019-11-30.csv', index = None)\n",
    "d1 = pd.concat([d1, d2], ignore_index=True)\n",
    "d2.shape"
   ]
  },
  {
   "cell_type": "code",
   "execution_count": 35,
   "metadata": {},
   "outputs": [
    {
     "data": {
      "text/plain": [
       "(138, 28)"
      ]
     },
     "execution_count": 35,
     "metadata": {},
     "output_type": "execute_result"
    }
   ],
   "source": [
    "#d1 = df.loc[df['date_only'] ==  '2019-12-01']\n",
    "#d1.to_csv('mes_2019-12-01.csv', index = None, header = True)\n",
    "#ds1 = d1.sample(n=138)\n",
    "#ds1.to_csv('mes_2019-12-01_sample.csv', index = None, header = True)\n",
    "d2 = pd.read_csv('mes_2019-12-01_sample.csv', low_memory=False)\n",
    "#d2['complete_text'] = d1['complete_text'].replace(r\"[^a-zA-Z\\d\\_]+\", ' ', regex=True)\n",
    "#d2['complete_text'] = d1['complete_text'].replace(r\"_\", ' ', regex=True)\n",
    "#d2.to_csv('mes_2019-12-01.csv', index = None)\n",
    "d1 = pd.concat([d1, d2], ignore_index=True)\n",
    "d2.shape"
   ]
  },
  {
   "cell_type": "code",
   "execution_count": 3,
   "metadata": {},
   "outputs": [],
   "source": [
    "d1 = df.loc[df['date_only'] ==  '2019-12-02']\n",
    "#d1.to_csv('mes_2019-12-02.csv', index = None, header = True)\n",
    "#ds1 = d1.sample(n=139)\n",
    "#ds1.to_csv('mes_2019-12-02_sample.csv', index = None, header = True)\n",
    "#d2 = pd.read_csv('mes_2019-12-02_sample.csv', low_memory=False)\n",
    "#d2['complete_text'] = d1['complete_text'].replace(r\"[^a-zA-Z\\d\\_]+\", ' ', regex=True)\n",
    "#d2['complete_text'] = d1['complete_text'].replace(r\"_\", ' ', regex=True)\n",
    "#d2.to_csv('mes_2019-12-02.csv', index = None)\n",
    "#d1 = pd.concat([d1, d2], ignore_index=True)\n",
    "#d2.shape"
   ]
  },
  {
   "cell_type": "code",
   "execution_count": 6,
   "metadata": {},
   "outputs": [
    {
     "data": {
      "text/plain": [
       "A #SKYTG24 il ridicolo.\\n\\n#Quartapelle: \"a giugno ero contro il #MES perche ero allopposizione, e non mi fidavo di quel Governo\"\\nConduttrice: \"quindi gli stessi contenuti ora vanno bene perche ce il suo Governo?\"\\n#Quartapelle: \"il MES e complicato\"\\n\\nRisate in studio.\\nFINE. https://t.co/Ae1XGyC44T       589\n",
       "#Molinari asfalta #Conte alla #Camera sul #Mes: \"State mettendo a rischio i conti correnti degli italiani, non finga di non capire, vada da #Mattarella e rassegni le dimissioni.\" #AltoTradimento #ConteDimettiti #RadioSavana #resilienza19  https://t.co/4I4i2TSU7W                                                567\n",
       "Lapsus di #Conte che conferma che la trattativa del #Mes e stata portata avanti e firmata con il consenso del #Parlamento. Ecco perche il #Mes non e modificabile, #Conte sta mentendo! Cosa ha firmato visto che il #Parlamento NON ha dato nessun mandato a firmare? #RadioSavana https://t.co/FYSXEpcRfd           458\n",
       "Fonti Eurogruppo: il #MES e stato gia approvato a giugno. #Salvini #Conte https://t.co/3oJz33OAQa                                                                                                                                                                                                                     440\n",
       "#MES, sara il Parlamento a decidere https://t.co/VaTwxuWv1T                                                                                                                                                                                                                                                           432\n",
       "La provocatoria supercazzola di #Conte sul #Mes gira intorno ai punti essenziali. https://t.co/Qeztqz1ZMI                                                                                                                                                                                                             402\n",
       "Gli Stati dell'UE istituirono giustamente il #Mes (fondo salva-Stati) nel marzo del 2011. Il meccanismo prevedeva di aiutare con soldi europei gli Stati in crisi. In Italia c'era il governo Berlusconi, sostenuto dalla Lega. Quindi a che titolo oggi si lamenta #Salvini?                                         391\n",
       "#MES\\nLa prox volta che qualcuno dice che non ci sono i soldi per sanita, scuola o una data crisi industriale (da #Alitalia ad #ILVA ad #Autostrade..)ricordategli che col #MES ci siamo impegnati ad erogare,a semplice richiesta del direttore,in 7gg,fino a 125MLD &gt; @borghi_claudio https://t.co/9fs2pw62NG    350\n",
       "+++Oggi su @laveritaweb+++\\nLa confessione di #Tria in tv sul #Mes (e quel lapsus micidiale: Altrimenti non avrei tradito). Lex ministro ammette che:\\n-non informo i vicepremier dellesito della trattativa \\n-non se ne parlo in Consiglio dei Ministri https://t.co/0HAOaopA9x                                     287\n",
       "Ma perche Giorgia #Meloni continua a sbraitare mentre sta parlando il Presidente del Consiglio. Non e andata all'asilo, dove ti insegnano che si alza la mano e si aspetta il proprio turno per parlare? Ah gia ma lei il braccio lo alza per altri motivi. \\n\\n#Conte #MES                                           283\n",
       "Name: retweeted_status, dtype: int64"
      ]
     },
     "execution_count": 6,
     "metadata": {},
     "output_type": "execute_result"
    }
   ],
   "source": [
    "d1['retweeted_status'].value_counts().head(10)"
   ]
  },
  {
   "cell_type": "code",
   "execution_count": 37,
   "metadata": {},
   "outputs": [
    {
     "data": {
      "text/plain": [
       "(139, 28)"
      ]
     },
     "execution_count": 37,
     "metadata": {},
     "output_type": "execute_result"
    }
   ],
   "source": [
    "#d1 = df.loc[df['date_only'] ==  '2019-12-03']\n",
    "#d1.to_csv('mes_2019-12-03.csv', index = None, header = True)\n",
    "#ds1 = d1.sample(n=139)\n",
    "#ds1.to_csv('mes_2019-12-03_sample.csv', index = None, header = True)\n",
    "d2 = pd.read_csv('mes_2019-12-03_sample.csv', low_memory=False)\n",
    "#d2['complete_text'] = d1['complete_text'].replace(r\"[^a-zA-Z\\d\\_]+\", ' ', regex=True)\n",
    "#d2['complete_text'] = d1['complete_text'].replace(r\"_\", ' ', regex=True)\n",
    "#d2.to_csv('mes_2019-12-03.csv', index = None)\n",
    "d1 = pd.concat([d1, d2], ignore_index=True)\n",
    "d2.shape"
   ]
  },
  {
   "cell_type": "code",
   "execution_count": 38,
   "metadata": {},
   "outputs": [
    {
     "data": {
      "text/plain": [
       "(138, 28)"
      ]
     },
     "execution_count": 38,
     "metadata": {},
     "output_type": "execute_result"
    }
   ],
   "source": [
    "#d1 = df.loc[df['date_only'] ==  '2019-12-04']\n",
    "#d1.to_csv('mes_2019-12-04.csv', index = None, header = True)\n",
    "#ds1 = d1.sample(n=138)\n",
    "#ds1.to_csv('mes_2019-12-04_sample.csv', index = None, header = True)\n",
    "d2 = pd.read_csv('mes_2019-12-04_sample.csv', low_memory=False)\n",
    "#d2['complete_text'] = d1['complete_text'].replace(r\"[^a-zA-Z\\d\\_]+\", ' ', regex=True)\n",
    "#d2['complete_text'] = d1['complete_text'].replace(r\"_\", ' ', regex=True)\n",
    "#d2.to_csv('mes_2019-12-04.csv', index = None)\n",
    "d1 = pd.concat([d1, d2], ignore_index=True)\n",
    "d2.shape"
   ]
  },
  {
   "cell_type": "code",
   "execution_count": 39,
   "metadata": {},
   "outputs": [
    {
     "data": {
      "text/plain": [
       "(138, 28)"
      ]
     },
     "execution_count": 39,
     "metadata": {},
     "output_type": "execute_result"
    }
   ],
   "source": [
    "#d1 = df.loc[df['date_only'] ==  '2019-12-05']\n",
    "#d1.to_csv('mes_2019-12-05.csv', index = None, header = True)\n",
    "#ds1 = d1.sample(n=138)\n",
    "#ds1.to_csv('mes_2019-12-05_sample.csv', index = None, header = True)\n",
    "d2 = pd.read_csv('mes_2019-12-05_sample.csv', low_memory=False)\n",
    "#d2['complete_text'] = d1['complete_text'].replace(r\"[^a-zA-Z\\d\\_]+\", ' ', regex=True)\n",
    "#d2['complete_text'] = d1['complete_text'].replace(r\"_\", ' ', regex=True)\n",
    "#d2.to_csv('mes_2019-12-05.csv', index = None)\n",
    "d1 = pd.concat([d1, d2], ignore_index=True)\n",
    "d2.shape"
   ]
  },
  {
   "cell_type": "code",
   "execution_count": 40,
   "metadata": {},
   "outputs": [
    {
     "data": {
      "text/plain": [
       "(136, 28)"
      ]
     },
     "execution_count": 40,
     "metadata": {},
     "output_type": "execute_result"
    }
   ],
   "source": [
    "#d1 = df.loc[df['date_only'] ==  '2019-12-06']\n",
    "#d1.to_csv('mes_2019-12-06.csv', index = None, header = True)\n",
    "#ds1 = d1.sample(n=136)\n",
    "#ds1.to_csv('mes_2019-12-06_sample.csv', index = None, header = True)\n",
    "d2 = pd.read_csv('mes_2019-12-06_sample.csv', low_memory=False)\n",
    "#d2['complete_text'] = d1['complete_text'].replace(r\"[^a-zA-Z\\d\\_]+\", ' ', regex=True)\n",
    "#d2['complete_text'] = d1['complete_text'].replace(r\"_\", ' ', regex=True)\n",
    "#d2.to_csv('mes_2019-12-06.csv', index = None)\n",
    "d1 = pd.concat([d1, d2], ignore_index=True)\n",
    "d2.shape"
   ]
  },
  {
   "cell_type": "code",
   "execution_count": 41,
   "metadata": {},
   "outputs": [
    {
     "data": {
      "text/plain": [
       "(134, 28)"
      ]
     },
     "execution_count": 41,
     "metadata": {},
     "output_type": "execute_result"
    }
   ],
   "source": [
    "#d1 = df.loc[df['date_only'] ==  '2019-12-07']\n",
    "#d1.to_csv('mes_2019-12-07.csv', index = None, header = True)\n",
    "#ds1 = d1.sample(n=134)\n",
    "#ds1.to_csv('mes_2019-12-07_sample.csv', index = None, header = True)\n",
    "d2 = pd.read_csv('mes_2019-12-07_sample.csv', low_memory=False)\n",
    "#d2['complete_text'] = d1['complete_text'].replace(r\"[^a-zA-Z\\d\\_]+\", ' ', regex=True)\n",
    "#d2['complete_text'] = d1['complete_text'].replace(r\"_\", ' ', regex=True)\n",
    "#d2.to_csv('mes_2019-12-07.csv', index = None)\n",
    "d1 = pd.concat([d1, d2], ignore_index=True)\n",
    "d2.shape"
   ]
  },
  {
   "cell_type": "code",
   "execution_count": 42,
   "metadata": {},
   "outputs": [
    {
     "data": {
      "text/plain": [
       "(137, 28)"
      ]
     },
     "execution_count": 42,
     "metadata": {},
     "output_type": "execute_result"
    }
   ],
   "source": [
    "#d1 = df.loc[df['date_only'] ==  '2019-12-08']\n",
    "#d1.to_csv('mes_2019-12-08.csv', index = None, header = True)\n",
    "#ds1 = d1.sample(n=137)\n",
    "#ds1.to_csv('mes_2019-12-08_sample.csv', index = None, header = True)\n",
    "d2 = pd.read_csv('mes_2019-12-08_sample.csv', low_memory=False)\n",
    "#d2['complete_text'] = d1['complete_text'].replace(r\"[^a-zA-Z\\d\\_]+\", ' ', regex=True)\n",
    "#d2['complete_text'] = d1['complete_text'].replace(r\"_\", ' ', regex=True)\n",
    "#d2.to_csv('mes_2019-12-08.csv', index = None)\n",
    "d1 = pd.concat([d1, d2], ignore_index=True)\n",
    "d2.shape"
   ]
  },
  {
   "cell_type": "code",
   "execution_count": 43,
   "metadata": {},
   "outputs": [
    {
     "data": {
      "text/plain": [
       "(138, 28)"
      ]
     },
     "execution_count": 43,
     "metadata": {},
     "output_type": "execute_result"
    }
   ],
   "source": [
    "#d1 = df.loc[df['date_only'] ==  '2019-12-09']\n",
    "#d1.to_csv('mes_2019-12-09.csv', index = None, header = True)\n",
    "#ds1 = d1.sample(n=138)\n",
    "#ds1.to_csv('mes_2019-12-09_sample.csv', index = None, header = True)\n",
    "d2 = pd.read_csv('mes_2019-12-09_sample.csv', low_memory=False)\n",
    "#d2['complete_text'] = d1['complete_text'].replace(r\"[^a-zA-Z\\d\\_]+\", ' ', regex=True)\n",
    "#d2['complete_text'] = d1['complete_text'].replace(r\"_\", ' ', regex=True)\n",
    "#d2.to_csv('mes_2019-12-09.csv', index = None)\n",
    "d1 = pd.concat([d1, d2], ignore_index=True)\n",
    "d2.shape"
   ]
  },
  {
   "cell_type": "code",
   "execution_count": 44,
   "metadata": {},
   "outputs": [
    {
     "data": {
      "text/plain": [
       "(136, 28)"
      ]
     },
     "execution_count": 44,
     "metadata": {},
     "output_type": "execute_result"
    }
   ],
   "source": [
    "#d1 = df.loc[df['date_only'] ==  '2019-12-10']\n",
    "#d1.to_csv('mes_2019-12-10.csv', index = None, header = True)\n",
    "#ds1 = d1.sample(n=136)\n",
    "#ds1.to_csv('mes_2019-12-10_sample.csv', index = None, header = True)\n",
    "d2 = pd.read_csv('mes_2019-12-10_sample.csv', low_memory=False)\n",
    "#d2['complete_text'] = d1['complete_text'].replace(r\"[^a-zA-Z\\d\\_]+\", ' ', regex=True)\n",
    "#d2['complete_text'] = d1['complete_text'].replace(r\"_\", ' ', regex=True)\n",
    "#d2.to_csv('mes_2019-12-10.csv', index = None)\n",
    "d1 = pd.concat([d1, d2], ignore_index=True)\n",
    "d2.shape"
   ]
  },
  {
   "cell_type": "code",
   "execution_count": 45,
   "metadata": {},
   "outputs": [
    {
     "data": {
      "text/plain": [
       "(138, 28)"
      ]
     },
     "execution_count": 45,
     "metadata": {},
     "output_type": "execute_result"
    }
   ],
   "source": [
    "#d1 = df.loc[df['date_only'] ==  '2019-12-11']\n",
    "#d1.to_csv('mes_2019-12-11.csv', index = None, header = True)\n",
    "#ds1 = d1.sample(n=138)\n",
    "#ds1.to_csv('mes_2019-12-11_sample.csv', index = None, header = True)\n",
    "d2 = pd.read_csv('mes_2019-12-11_sample.csv', low_memory=False)\n",
    "#d2['complete_text'] = d1['complete_text'].replace(r\"[^a-zA-Z\\d\\_]+\", ' ', regex=True)\n",
    "#d2['complete_text'] = d1['complete_text'].replace(r\"_\", ' ', regex=True)\n",
    "#d2.to_csv('mes_2019-12-11.csv', index = None)\n",
    "d1 = pd.concat([d1, d2], ignore_index=True)\n",
    "d2.shape"
   ]
  },
  {
   "cell_type": "code",
   "execution_count": 46,
   "metadata": {},
   "outputs": [
    {
     "data": {
      "text/plain": [
       "(138, 28)"
      ]
     },
     "execution_count": 46,
     "metadata": {},
     "output_type": "execute_result"
    }
   ],
   "source": [
    "#d1 = df.loc[df['date_only'] ==  '2019-12-12']\n",
    "#d1.to_csv('mes_2019-12-12.csv', index = None, header = True)\n",
    "#ds1 = d1.sample(n=138)\n",
    "#ds1.to_csv('mes_2019-12-12_sample.csv', index = None, header = True)\n",
    "d2 = pd.read_csv('mes_2019-12-12_sample.csv', low_memory=False)\n",
    "#d2['complete_text'] = d1['complete_text'].replace(r\"[^a-zA-Z\\d\\_]+\", ' ', regex=True)\n",
    "#d2['complete_text'] = d1['complete_text'].replace(r\"_\", ' ', regex=True)\n",
    "#d2.to_csv('mes_2019-12-12.csv', index = None)\n",
    "d1 = pd.concat([d1, d2], ignore_index=True)\n",
    "d2.shape"
   ]
  },
  {
   "cell_type": "code",
   "execution_count": 47,
   "metadata": {},
   "outputs": [
    {
     "data": {
      "text/plain": [
       "(136, 28)"
      ]
     },
     "execution_count": 47,
     "metadata": {},
     "output_type": "execute_result"
    }
   ],
   "source": [
    "#d1 = df.loc[df['date_only'] ==  '2019-12-13']\n",
    "#d1.to_csv('mes_2019-12-13.csv', index = None, header = True)\n",
    "#ds1 = d1.sample(n=136)\n",
    "#ds1.to_csv('mes_2019-12-13_sample.csv', index = None, header = True)\n",
    "d2 = pd.read_csv('mes_2019-12-13_sample.csv', low_memory=False)\n",
    "#d2['complete_text'] = d1['complete_text'].replace(r\"[^a-zA-Z\\d\\_]+\", ' ', regex=True)\n",
    "#d2['complete_text'] = d1['complete_text'].replace(r\"_\", ' ', regex=True)\n",
    "#d2.to_csv('mes_2019-12-13.csv', index = None)\n",
    "d1 = pd.concat([d1, d2], ignore_index=True)\n",
    "d2.shape"
   ]
  },
  {
   "cell_type": "code",
   "execution_count": 48,
   "metadata": {},
   "outputs": [
    {
     "data": {
      "text/plain": [
       "(133, 28)"
      ]
     },
     "execution_count": 48,
     "metadata": {},
     "output_type": "execute_result"
    }
   ],
   "source": [
    "#d1 = df.loc[df['date_only'] ==  '2019-12-14']\n",
    "#d1.to_csv('mes_2019-12-14.csv', index = None, header = True)\n",
    "#ds1 = d1.sample(n=133)\n",
    "#ds1.to_csv('mes_2019-12-14_sample.csv', index = None, header = True)\n",
    "d2 = pd.read_csv('mes_2019-12-14_sample.csv', low_memory=False)\n",
    "#d2['complete_text'] = d1['complete_text'].replace(r\"[^a-zA-Z\\d\\_]+\", ' ', regex=True)\n",
    "#d2['complete_text'] = d1['complete_text'].replace(r\"_\", ' ', regex=True)\n",
    "#d2.to_csv('mes_2019-12-14.csv', index = None)\n",
    "d1 = pd.concat([d1, d2], ignore_index=True)\n",
    "d2.shape"
   ]
  },
  {
   "cell_type": "code",
   "execution_count": 49,
   "metadata": {},
   "outputs": [
    {
     "data": {
      "text/plain": [
       "(127, 28)"
      ]
     },
     "execution_count": 49,
     "metadata": {},
     "output_type": "execute_result"
    }
   ],
   "source": [
    "#d1 = df.loc[df['date_only'] ==  '2019-12-15']\n",
    "#d1.to_csv('mes_2019-12-15.csv', index = None, header = True)\n",
    "#ds1 = d1.sample(n=127)\n",
    "#ds1.to_csv('mes_2019-12-15_sample.csv', index = None, header = True)\n",
    "d2 = pd.read_csv('mes_2019-12-15_sample.csv', low_memory=False)\n",
    "#d2['complete_text'] = d1['complete_text'].replace(r\"[^a-zA-Z\\d\\_]+\", ' ', regex=True)\n",
    "#d2['complete_text'] = d1['complete_text'].replace(r\"_\", ' ', regex=True)\n",
    "#d2.to_csv('mes_2019-12-15.csv', index = None)\n",
    "d1 = pd.concat([d1, d2], ignore_index=True)\n",
    "d2.shape"
   ]
  },
  {
   "cell_type": "code",
   "execution_count": 51,
   "metadata": {},
   "outputs": [
    {
     "data": {
      "text/plain": [
       "(2863, 28)"
      ]
     },
     "execution_count": 51,
     "metadata": {},
     "output_type": "execute_result"
    }
   ],
   "source": [
    "d1.to_csv('mes_sample.csv', index = None)\n",
    "d1.shape"
   ]
  },
  {
   "cell_type": "code",
   "execution_count": 23,
   "metadata": {},
   "outputs": [],
   "source": [
    "#ds1 = df.sample(n=385)\n",
    "#ds1.to_csv('mes_totale_sample.csv', index = None, header = True)\n",
    "#d2 = pd.read_csv('mes_totale_sample.csv', low_memory=False)\n",
    "#d2['complete_text'] = d1['complete_text'].replace(r\"[^a-zA-Z\\d\\_]+\", ' ', regex=True)\n",
    "#d2['complete_text'] = d1['complete_text'].replace(r\"_\", ' ', regex=True)\n",
    "#d2.to_csv('mes_totale_sample.csv', index = None)\n",
    "#d1 = pd.concat([d1, d2], ignore_index=True)"
   ]
  },
  {
   "cell_type": "code",
   "execution_count": 24,
   "metadata": {},
   "outputs": [],
   "source": [
    "d1.to_csv('mes_totale_sample_totale.csv', index = None)"
   ]
  },
  {
   "cell_type": "code",
   "execution_count": 196,
   "metadata": {},
   "outputs": [],
   "source": [
    "#def addname(text, name1, name2):\n",
    "        #return str(name1) + ' ' + str(name2) + ' ' + str(text)"
   ]
  },
  {
   "cell_type": "code",
   "execution_count": 197,
   "metadata": {},
   "outputs": [],
   "source": [
    "#d1['complete_text'] = df.apply(lambda x: addname(x['complete_text'],x['retweeted_author'],x['aut_scrname']),axis=1)"
   ]
  },
  {
   "cell_type": "code",
   "execution_count": 198,
   "metadata": {},
   "outputs": [
    {
     "data": {
      "text/html": [
       "<div>\n",
       "<style scoped>\n",
       "    .dataframe tbody tr th:only-of-type {\n",
       "        vertical-align: middle;\n",
       "    }\n",
       "\n",
       "    .dataframe tbody tr th {\n",
       "        vertical-align: top;\n",
       "    }\n",
       "\n",
       "    .dataframe thead th {\n",
       "        text-align: right;\n",
       "    }\n",
       "</style>\n",
       "<table border=\"1\" class=\"dataframe\">\n",
       "  <thead>\n",
       "    <tr style=\"text-align: right;\">\n",
       "      <th></th>\n",
       "      <th>complete_text</th>\n",
       "      <th>cat</th>\n",
       "    </tr>\n",
       "  </thead>\n",
       "  <tbody>\n",
       "    <tr>\n",
       "      <td>0</td>\n",
       "      <td>MES dovrebbe raccogliere soldi di tasse per poi usarli per comprare bonds intanto la BCE ricomincia a creare miliardi di euro dal niente gratis dopo che ne ha creati 3 000 mld e compra bonds anche di multinazionali SE VOLETE SOLDI PER IL MES FATELI STAMPARE ALLA BCE</td>\n",
       "      <td>1</td>\n",
       "    </tr>\n",
       "    <tr>\n",
       "      <td>1</td>\n",
       "      <td>Alitalia tutto fermo Ilva tutto fermo Venezia tutto fermo Mes tutto fermo In una settimana le chiacchiere bruciano tutto la giostra riparte il paese resta tuttofermo</td>\n",
       "      <td>2</td>\n",
       "    </tr>\n",
       "    <tr>\n",
       "      <td>2</td>\n",
       "      <td>Ok Dopo gli eurobond si approva il mes Non e difficile Corte Costituzionale tedesca a parte Il Mes non deve spaventare ma va dotato di eurobond di A Quadrio Curzio</td>\n",
       "      <td>1</td>\n",
       "    </tr>\n",
       "    <tr>\n",
       "      <td>3</td>\n",
       "      <td>Ok Dopo gli eurobond si approva il mes Non e difficile Corte Costituzionale tedesca a parte Il Mes non deve spaventare ma va dotato di eurobond di A Quadrio Curzio</td>\n",
       "      <td>1</td>\n",
       "    </tr>\n",
       "    <tr>\n",
       "      <td>4</td>\n",
       "      <td>ma lo scopo del MES non e monetario e politico Un perfetto strumento per costringere gli Stati a cedere pezzi di sovranita Hanno gia deciso di fare gli USE entro il 2025</td>\n",
       "      <td>1</td>\n",
       "    </tr>\n",
       "    <tr>\n",
       "      <td>...</td>\n",
       "      <td>...</td>\n",
       "      <td>...</td>\n",
       "    </tr>\n",
       "    <tr>\n",
       "      <td>3243</td>\n",
       "      <td>Salvini sta riuscendo a mettere in crisi il governo non con voti in parlamento ma sparando balle sul MES E sconcertante che delle fake news possano influenzare il lavoro di un governo mi chiedo come si possa andare avanti cosi</td>\n",
       "      <td>3</td>\n",
       "    </tr>\n",
       "    <tr>\n",
       "      <td>3244</td>\n",
       "      <td>E cosi AudizioneGualtieri e secondo nei TT nemmeno nei miei sogni piu sfrenati avrei osato sperare tanto MES Viva gli italiani</td>\n",
       "      <td>2</td>\n",
       "    </tr>\n",
       "    <tr>\n",
       "      <td>3245</td>\n",
       "      <td>Invece che scrivere un sacco di tweet ho messo nero su bianco due parole sulla riforma del MES In breve il polverone sollevato e completamente irrazionale e rischia di mandare un segnale di inaffidabilita che potremmo pagare caro Il resto qui</td>\n",
       "      <td>3</td>\n",
       "    </tr>\n",
       "    <tr>\n",
       "      <td>3246</td>\n",
       "      <td>Ricapitolando stagnazione economica ci autoincaprettiamo col Mes non sapendo se nel 2020 21 potranno esservi crisi o choc grazie a M5S siamo cavallo di Troia per penetrazione cinese in Occidente MA I NOSTRI MAINSTREAM MEDIA PARLANO DI sardine applausi a Mattarella</td>\n",
       "      <td>1</td>\n",
       "    </tr>\n",
       "    <tr>\n",
       "      <td>3247</td>\n",
       "      <td>Art 264 c p Chiunque incaricato dal Governo italiano di trattare all estero affari di Stato si rende infedele al mandato e punito se dal fatto possa derivare nocumento all interesse nazionale con la reclusione non inferiore a 5 anni Conte MES StopMes</td>\n",
       "      <td>1</td>\n",
       "    </tr>\n",
       "  </tbody>\n",
       "</table>\n",
       "<p>3248 rows × 2 columns</p>\n",
       "</div>"
      ],
      "text/plain": [
       "                                                                                                                                                                                                                                                                    complete_text  \\\n",
       "0      MES dovrebbe raccogliere soldi di tasse per poi usarli per comprare bonds intanto la BCE ricomincia a creare miliardi di euro dal niente gratis dopo che ne ha creati 3 000 mld e compra bonds anche di multinazionali SE VOLETE SOLDI PER IL MES FATELI STAMPARE ALLA BCE   \n",
       "1      Alitalia tutto fermo Ilva tutto fermo Venezia tutto fermo Mes tutto fermo In una settimana le chiacchiere bruciano tutto la giostra riparte il paese resta tuttofermo                                                                                                        \n",
       "2     Ok Dopo gli eurobond si approva il mes Non e difficile Corte Costituzionale tedesca a parte Il Mes non deve spaventare ma va dotato di eurobond di A Quadrio Curzio                                                                                                           \n",
       "3     Ok Dopo gli eurobond si approva il mes Non e difficile Corte Costituzionale tedesca a parte Il Mes non deve spaventare ma va dotato di eurobond di A Quadrio Curzio                                                                                                           \n",
       "4      ma lo scopo del MES non e monetario e politico Un perfetto strumento per costringere gli Stati a cedere pezzi di sovranita Hanno gia deciso di fare gli USE entro il 2025                                                                                                    \n",
       "...                                                                                                                                                                           ...                                                                                                   \n",
       "3243   Salvini sta riuscendo a mettere in crisi il governo non con voti in parlamento ma sparando balle sul MES E sconcertante che delle fake news possano influenzare il lavoro di un governo mi chiedo come si possa andare avanti cosi                                           \n",
       "3244  E cosi AudizioneGualtieri e secondo nei TT nemmeno nei miei sogni piu sfrenati avrei osato sperare tanto MES Viva gli italiani                                                                                                                                                \n",
       "3245  Invece che scrivere un sacco di tweet ho messo nero su bianco due parole sulla riforma del MES In breve il polverone sollevato e completamente irrazionale e rischia di mandare un segnale di inaffidabilita che potremmo pagare caro Il resto qui                            \n",
       "3246  Ricapitolando stagnazione economica ci autoincaprettiamo col Mes non sapendo se nel 2020 21 potranno esservi crisi o choc grazie a M5S siamo cavallo di Troia per penetrazione cinese in Occidente MA I NOSTRI MAINSTREAM MEDIA PARLANO DI sardine applausi a Mattarella      \n",
       "3247  Art 264 c p Chiunque incaricato dal Governo italiano di trattare all estero affari di Stato si rende infedele al mandato e punito se dal fatto possa derivare nocumento all interesse nazionale con la reclusione non inferiore a 5 anni Conte MES StopMes                    \n",
       "\n",
       "      cat  \n",
       "0     1    \n",
       "1     2    \n",
       "2     1    \n",
       "3     1    \n",
       "4     1    \n",
       "...  ..    \n",
       "3243  3    \n",
       "3244  2    \n",
       "3245  3    \n",
       "3246  1    \n",
       "3247  1    \n",
       "\n",
       "[3248 rows x 2 columns]"
      ]
     },
     "execution_count": 198,
     "metadata": {},
     "output_type": "execute_result"
    }
   ],
   "source": [
    "df2 = d1[['complete_text','cat']]\n",
    "df2 = df2.replace(r\"[^a-zA-Z\\d\\_]+\", ' ', regex=True)\n",
    "df2 = df2.replace(r\"_\", ' ', regex=True)\n",
    "df2"
   ]
  },
  {
   "cell_type": "code",
   "execution_count": 199,
   "metadata": {},
   "outputs": [],
   "source": [
    "df2.to_csv('mes_cat.csv', index = None, header = False, sep = ',', encoding=\"utf-8\")"
   ]
  },
  {
   "cell_type": "code",
   "execution_count": 200,
   "metadata": {},
   "outputs": [
    {
     "data": {
      "text/html": [
       "<div>\n",
       "<style scoped>\n",
       "    .dataframe tbody tr th:only-of-type {\n",
       "        vertical-align: middle;\n",
       "    }\n",
       "\n",
       "    .dataframe tbody tr th {\n",
       "        vertical-align: top;\n",
       "    }\n",
       "\n",
       "    .dataframe thead th {\n",
       "        text-align: right;\n",
       "    }\n",
       "</style>\n",
       "<table border=\"1\" class=\"dataframe\">\n",
       "  <thead>\n",
       "    <tr style=\"text-align: right;\">\n",
       "      <th></th>\n",
       "      <th>complete_text</th>\n",
       "      <th>cat</th>\n",
       "    </tr>\n",
       "  </thead>\n",
       "  <tbody>\n",
       "    <tr>\n",
       "      <td>0</td>\n",
       "      <td>MES dovrebbe raccogliere soldi di tasse per poi usarli per comprare bonds intanto la BCE ricomincia a creare miliardi di euro dal niente gratis dopo che ne ha creati 3 000 mld e compra bonds anche di multinazionali SE VOLETE SOLDI PER IL MES FATELI STAMPARE ALLA BCE</td>\n",
       "      <td>1</td>\n",
       "    </tr>\n",
       "    <tr>\n",
       "      <td>1</td>\n",
       "      <td>Alitalia tutto fermo Ilva tutto fermo Venezia tutto fermo Mes tutto fermo In una settimana le chiacchiere bruciano tutto la giostra riparte il paese resta tuttofermo</td>\n",
       "      <td>2</td>\n",
       "    </tr>\n",
       "    <tr>\n",
       "      <td>2</td>\n",
       "      <td>Ok Dopo gli eurobond si approva il mes Non e difficile Corte Costituzionale tedesca a parte Il Mes non deve spaventare ma va dotato di eurobond di A Quadrio Curzio</td>\n",
       "      <td>1</td>\n",
       "    </tr>\n",
       "    <tr>\n",
       "      <td>3</td>\n",
       "      <td>Ok Dopo gli eurobond si approva il mes Non e difficile Corte Costituzionale tedesca a parte Il Mes non deve spaventare ma va dotato di eurobond di A Quadrio Curzio</td>\n",
       "      <td>1</td>\n",
       "    </tr>\n",
       "    <tr>\n",
       "      <td>4</td>\n",
       "      <td>ma lo scopo del MES non e monetario e politico Un perfetto strumento per costringere gli Stati a cedere pezzi di sovranita Hanno gia deciso di fare gli USE entro il 2025</td>\n",
       "      <td>1</td>\n",
       "    </tr>\n",
       "    <tr>\n",
       "      <td>...</td>\n",
       "      <td>...</td>\n",
       "      <td>...</td>\n",
       "    </tr>\n",
       "    <tr>\n",
       "      <td>3243</td>\n",
       "      <td>Salvini sta riuscendo a mettere in crisi il governo non con voti in parlamento ma sparando balle sul MES E sconcertante che delle fake news possano influenzare il lavoro di un governo mi chiedo come si possa andare avanti cosi</td>\n",
       "      <td>3</td>\n",
       "    </tr>\n",
       "    <tr>\n",
       "      <td>3244</td>\n",
       "      <td>E cosi AudizioneGualtieri e secondo nei TT nemmeno nei miei sogni piu sfrenati avrei osato sperare tanto MES Viva gli italiani</td>\n",
       "      <td>2</td>\n",
       "    </tr>\n",
       "    <tr>\n",
       "      <td>3245</td>\n",
       "      <td>Invece che scrivere un sacco di tweet ho messo nero su bianco due parole sulla riforma del MES In breve il polverone sollevato e completamente irrazionale e rischia di mandare un segnale di inaffidabilita che potremmo pagare caro Il resto qui</td>\n",
       "      <td>3</td>\n",
       "    </tr>\n",
       "    <tr>\n",
       "      <td>3246</td>\n",
       "      <td>Ricapitolando stagnazione economica ci autoincaprettiamo col Mes non sapendo se nel 2020 21 potranno esservi crisi o choc grazie a M5S siamo cavallo di Troia per penetrazione cinese in Occidente MA I NOSTRI MAINSTREAM MEDIA PARLANO DI sardine applausi a Mattarella</td>\n",
       "      <td>1</td>\n",
       "    </tr>\n",
       "    <tr>\n",
       "      <td>3247</td>\n",
       "      <td>Art 264 c p Chiunque incaricato dal Governo italiano di trattare all estero affari di Stato si rende infedele al mandato e punito se dal fatto possa derivare nocumento all interesse nazionale con la reclusione non inferiore a 5 anni Conte MES StopMes</td>\n",
       "      <td>1</td>\n",
       "    </tr>\n",
       "  </tbody>\n",
       "</table>\n",
       "<p>3248 rows × 2 columns</p>\n",
       "</div>"
      ],
      "text/plain": [
       "                                                                                                                                                                                                                                                                    complete_text  \\\n",
       "0      MES dovrebbe raccogliere soldi di tasse per poi usarli per comprare bonds intanto la BCE ricomincia a creare miliardi di euro dal niente gratis dopo che ne ha creati 3 000 mld e compra bonds anche di multinazionali SE VOLETE SOLDI PER IL MES FATELI STAMPARE ALLA BCE   \n",
       "1      Alitalia tutto fermo Ilva tutto fermo Venezia tutto fermo Mes tutto fermo In una settimana le chiacchiere bruciano tutto la giostra riparte il paese resta tuttofermo                                                                                                        \n",
       "2     Ok Dopo gli eurobond si approva il mes Non e difficile Corte Costituzionale tedesca a parte Il Mes non deve spaventare ma va dotato di eurobond di A Quadrio Curzio                                                                                                           \n",
       "3     Ok Dopo gli eurobond si approva il mes Non e difficile Corte Costituzionale tedesca a parte Il Mes non deve spaventare ma va dotato di eurobond di A Quadrio Curzio                                                                                                           \n",
       "4      ma lo scopo del MES non e monetario e politico Un perfetto strumento per costringere gli Stati a cedere pezzi di sovranita Hanno gia deciso di fare gli USE entro il 2025                                                                                                    \n",
       "...                                                                                                                                                                           ...                                                                                                   \n",
       "3243   Salvini sta riuscendo a mettere in crisi il governo non con voti in parlamento ma sparando balle sul MES E sconcertante che delle fake news possano influenzare il lavoro di un governo mi chiedo come si possa andare avanti cosi                                           \n",
       "3244  E cosi AudizioneGualtieri e secondo nei TT nemmeno nei miei sogni piu sfrenati avrei osato sperare tanto MES Viva gli italiani                                                                                                                                                \n",
       "3245  Invece che scrivere un sacco di tweet ho messo nero su bianco due parole sulla riforma del MES In breve il polverone sollevato e completamente irrazionale e rischia di mandare un segnale di inaffidabilita che potremmo pagare caro Il resto qui                            \n",
       "3246  Ricapitolando stagnazione economica ci autoincaprettiamo col Mes non sapendo se nel 2020 21 potranno esservi crisi o choc grazie a M5S siamo cavallo di Troia per penetrazione cinese in Occidente MA I NOSTRI MAINSTREAM MEDIA PARLANO DI sardine applausi a Mattarella      \n",
       "3247  Art 264 c p Chiunque incaricato dal Governo italiano di trattare all estero affari di Stato si rende infedele al mandato e punito se dal fatto possa derivare nocumento all interesse nazionale con la reclusione non inferiore a 5 anni Conte MES StopMes                    \n",
       "\n",
       "      cat  \n",
       "0     1    \n",
       "1     2    \n",
       "2     1    \n",
       "3     1    \n",
       "4     1    \n",
       "...  ..    \n",
       "3243  3    \n",
       "3244  2    \n",
       "3245  3    \n",
       "3246  1    \n",
       "3247  1    \n",
       "\n",
       "[3248 rows x 2 columns]"
      ]
     },
     "execution_count": 200,
     "metadata": {},
     "output_type": "execute_result"
    }
   ],
   "source": [
    "df2"
   ]
  }
 ],
 "metadata": {
  "kernelspec": {
   "display_name": "Python 3 (ipykernel)",
   "language": "python",
   "name": "python3"
  },
  "language_info": {
   "codemirror_mode": {
    "name": "ipython",
    "version": 3
   },
   "file_extension": ".py",
   "mimetype": "text/x-python",
   "name": "python",
   "nbconvert_exporter": "python",
   "pygments_lexer": "ipython3",
   "version": "3.9.7"
  }
 },
 "nbformat": 4,
 "nbformat_minor": 2
}
